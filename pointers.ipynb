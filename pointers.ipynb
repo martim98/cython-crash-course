{
 "cells": [
  {
   "cell_type": "markdown",
   "metadata": {
    "ein.tags": [
     "worksheet-0"
    ]
   },
   "source": [
    "# Pointers\n",
    "One of the biggest hurdles when transitioning from Python to Cython is the use of pointers in C code, which is necessary to write clean Cython programs.\n",
    "\n",
    "\n",
    "In C, every variable has a memory location and every memory location has a memory address that can be accessed using the `&` symbol."
   ]
  },
  {
   "cell_type": "code",
   "execution_count": 1,
   "metadata": {
    "autoscroll": "json-false",
    "collapsed": false,
    "ein.tags": [
     "worksheet-0"
    ]
   },
   "outputs": [],
   "source": [
    "# enable Cython in the IPython Noteboook\n",
    "%load_ext Cython"
   ]
  },
  {
   "cell_type": "code",
   "execution_count": 2,
   "metadata": {
    "autoscroll": "json-false",
    "collapsed": false,
    "ein.tags": [
     "worksheet-0"
    ]
   },
   "outputs": [
    {
     "name": "stdout",
     "output_type": "stream",
     "text": [
      "0x3bfd2e0\n",
      "0x3bfd2e4\n"
     ]
    }
   ],
   "source": [
    "%%cython\n",
    "# from libc.stdio cimport printf\n",
    "\n",
    "# this works, but unfortunately prints to the command line and not the notebook\n",
    "# https://github.com/ipython/ipython/issues/1230\n",
    "# cdef int variable_1 = 10\n",
    "# cdef int variable_2 = 20\n",
    "# printf(\"Address of variable_1: %x\\n\", &variable_1);\n",
    "# printf(\"Address of variable_2: %x\\n\", &variable_2);\n",
    "\n",
    "# this throws an error, is there any way I can fix this?\n",
    "cdef int variable_1 = 10\n",
    "cdef int variable_2 = 20\n",
    "print hex(<unsigned>(&variable_1))\n",
    "print hex(<unsigned>(&variable_2))"
   ]
  },
  {
   "cell_type": "markdown",
   "metadata": {
    "ein.tags": [
     "worksheet-0"
    ]
   },
   "source": [
    "## So what exactly are pointers?\n",
    "A pointer is a variable whose value is the memory address of another variable. Changing the pointer changes the value at the memory address.\n",
    "\n",
    "To declare a pointer, use the following syntax:"
   ]
  },
  {
   "cell_type": "code",
   "execution_count": 3,
   "metadata": {
    "autoscroll": "json-false",
    "collapsed": false,
    "ein.tags": [
     "worksheet-0"
    ]
   },
   "outputs": [],
   "source": [
    "%%cython\n",
    "cdef int* integer_pointer # declares a pointer to an integer\n",
    "cdef double* double_pointer # declares a pointer to a double\n",
    "cdef float* float_pointer # declares a pointer to a float\n",
    "cdef char* char_pointer # declares a pointer to a char"
   ]
  },
  {
   "cell_type": "markdown",
   "metadata": {
    "ein.tags": [
     "worksheet-0"
    ]
   },
   "source": [
    "While these pointers all point to memory addresses, the variable or constant at the memory address the pointer is pointing to are all of different types."
   ]
  },
  {
   "cell_type": "markdown",
   "metadata": {
    "ein.tags": [
     "worksheet-0"
    ]
   },
   "source": [
    "## How do I use pointers?\n",
    "Pointers are generally used to modify the value of a variable or constant that it points to. In C, this is done through use of the `*` operator, which returns the value of the variable or constant specified by the pointer type. However, the `*` operator already has a meaning in Python -- unpacking tuples. As a result, assigning and accessing pointers uses an index notation similar to lists."
   ]
  },
  {
   "cell_type": "code",
   "execution_count": 4,
   "metadata": {
    "autoscroll": "json-false",
    "collapsed": false,
    "ein.tags": [
     "worksheet-0"
    ]
   },
   "outputs": [
    {
     "name": "stdout",
     "output_type": "stream",
     "text": [
      "Value of variable set to pointer: 1\n",
      "Value of original variable: 1\n",
      "Value of variable set to pointer: 2\n",
      "Value of original variable: 2\n"
     ]
    }
   ],
   "source": [
    "%%cython\n",
    "# define a variable to modify\n",
    "cdef int to_increment = 0\n",
    "# define an int pointer with the * operator\n",
    "cdef int* incrementor\n",
    "\n",
    "# store the address of the variable in the pointer\n",
    "incrementor = &to_increment\n",
    "\n",
    "# access the value at the pointer by using indexing notation and \n",
    "# increment the value the pointer points at.\n",
    "incrementor[0] += 1\n",
    "print \"Value of variable set to pointer: {}\".format(incrementor[0])\n",
    "print \"Value of original variable: {}\".format(to_increment)\n",
    "\n",
    "# increment the original variable\n",
    "to_increment += 1\n",
    "print \"Value of variable set to pointer: {}\".format(incrementor[0])\n",
    "print \"Value of original variable: {}\".format(to_increment)"
   ]
  },
  {
   "cell_type": "markdown",
   "metadata": {
    "ein.tags": [
     "worksheet-0"
    ]
   },
   "source": [
    "As you can see, modifying the value of what the pointer was pointing at (by adding one) changed the value of the original variable, and changes to the original variable propogated to affect the value that the pointer was pointing at."
   ]
  },
  {
   "cell_type": "markdown",
   "metadata": {
    "ein.tags": [
     "worksheet-0"
    ]
   },
   "source": [
    "## Some more pointer examples"
   ]
  },
  {
   "cell_type": "code",
   "execution_count": 5,
   "metadata": {
    "autoscroll": "json-false",
    "collapsed": false,
    "ein.tags": [
     "worksheet-0"
    ]
   },
   "outputs": [
    {
     "name": "stdout",
     "output_type": "stream",
     "text": [
      "Value pointer points at: 10\n",
      "Value of some_value: 10\n",
      "Value pointer points at: 0\n",
      "Value of another_value: 0\n"
     ]
    }
   ],
   "source": [
    "%%cython\n",
    "# define an integer\n",
    "cdef int some_value\n",
    "cdef int another_value\n",
    "\n",
    "# define an integer pointer and point it at some_value\n",
    "cdef int* int_pointer = &some_value\n",
    "# sets the value of what the pointer is pointing to to 10.\n",
    "# some_value should now have the value 10\n",
    "int_pointer[0] = 10\n",
    "print \"Value pointer points at: {}\".format(int_pointer[0])\n",
    "print \"Value of some_value: {}\".format(some_value)\n",
    "\n",
    "# you can also assign the pointer to a different variable\n",
    "int_pointer = &another_value\n",
    "print \"Value pointer points at: {}\".format(int_pointer[0])\n",
    "print \"Value of another_value: {}\".format(another_value)\n",
    "\n",
    "# lastly, you can set it to NULL if you wish\n",
    "int_pointer = NULL"
   ]
  },
  {
   "cell_type": "markdown",
   "metadata": {
    "ein.tags": [
     "worksheet-0"
    ]
   },
   "source": [
    "## Quicksorting a C array in Cython\n",
    "The following example runs quicksort in-place (thanks to pointers) on a C-level array in Cython."
   ]
  },
  {
   "cell_type": "code",
   "execution_count": 6,
   "metadata": {
    "autoscroll": "json-false",
    "collapsed": false,
    "ein.tags": [
     "worksheet-0"
    ]
   },
   "outputs": [
    {
     "name": "stdout",
     "output_type": "stream",
     "text": [
      "Values in unsorted array:\n",
      "0.67929640552\n",
      "0.934692895506\n",
      "0.383502077311\n",
      "0.519416371826\n",
      "0.830965345725\n",
      "0.0345721105114\n",
      "Values in array post quicksort:\n",
      "0.0345721105114\n",
      "0.383502077311\n",
      "0.519416371826\n",
      "0.67929640552\n",
      "0.830965345725\n",
      "0.934692895506\n"
     ]
    }
   ],
   "source": [
    "%%cython\n",
    "from libc.stdlib cimport rand, RAND_MAX\n",
    "from libc.stdlib cimport calloc\n",
    "\n",
    "cdef void sort(double* to_sort, size_t low, size_t high) nogil:\n",
    "    \"\"\"Sort a c-level array with quicksort\"\"\"\n",
    "    cdef size_t pivot, i, j\n",
    "    cdef double temp\n",
    "    if low < high:\n",
    "        pivot = low\n",
    "        i = low\n",
    "        j = high\n",
    "        while i < j:\n",
    "            while(to_sort[i] <= to_sort[pivot] and i <= high):\n",
    "                i += 1\n",
    "            while(to_sort[j] > to_sort[pivot] and j  >= low):\n",
    "                j -= 1\n",
    "            if i < j:\n",
    "                temp = to_sort[i]\n",
    "                to_sort[i] = to_sort[j]\n",
    "                to_sort[j] = temp\n",
    "\n",
    "        temp = to_sort[j]\n",
    "        to_sort[j] = to_sort[pivot]\n",
    "        to_sort[pivot] = temp\n",
    "\n",
    "        sort(to_sort, low, j-1)\n",
    "        sort(to_sort, j+1, high)\n",
    "\n",
    "# I put the main code in a separate setup function \n",
    "# with nogil to ensure that all operations are c-level\n",
    "cdef void run_sort_example() nogil:\n",
    "    # create a C-level array of size 10\n",
    "    cdef size_t array_size = 6\n",
    "    cdef double* array_to_sort = <double*> calloc(array_size, sizeof(double))\n",
    "\n",
    "    # populate the array with random doubles\n",
    "    with gil:\n",
    "        print \"Values in unsorted array:\"\n",
    "    for i in range(array_size):\n",
    "        array_to_sort[i] = rand() / (RAND_MAX + 1.);\n",
    "        with gil:\n",
    "            print array_to_sort[i]\n",
    "    sort(array_to_sort, 0, array_size-1)\n",
    "    # print the sorted array\n",
    "    with gil:\n",
    "        print \"Values in array post quicksort:\"\n",
    "    for i in range(array_size):\n",
    "        with gil:\n",
    "            print array_to_sort[i]\n",
    "\n",
    "run_sort_example()\n"
   ]
  },
  {
   "cell_type": "markdown",
   "metadata": {
    "autoscroll": "json-false",
    "collapsed": false,
    "ein.tags": [
     "worksheet-0"
    ]
   },
   "source": [
    "# Using NumPy arrays with Cython\n",
    "NumPy arrays are essentially wrappers around a regular C array. This means that we can easily pass a NumPy array from the Python level to the C level and manipulate a NumPy array in Cython without any data-copying -- this provides all the benefits of C-level operations quite easily.\n",
    "\n",
    "To use a NumPy array in Cython, you can use the `.data` attribute to extract the underlying C pointer.\n",
    "```\n",
    "cdef dtype* X_c = <dtype*> X_ndarray.data\n",
    "```\n",
    "\n",
    "`dtype` refers to the data type of the NumPy array. For example, to convert a Python double array to a C pointer:\n",
    "```\n",
    "cdef double* X_c = <double*> X_ndarray.data\n",
    "```\n",
    "\n",
    "Lastly, before extracting the C pointer, the NumPy array must be explicitly cast as an `ndarray`, like so:\n",
    "```\n",
    "cdef double* X_c = <double*> (<numpy.ndarray> X_ndarray).data\n",
    "```\n",
    "\n",
    "The example below demonstrates these concepts."
   ]
  },
  {
   "cell_type": "code",
   "execution_count": 7,
   "metadata": {
    "collapsed": false
   },
   "outputs": [
    {
     "name": "stdout",
     "output_type": "stream",
     "text": [
      "original numpy array: [0 1 2 3 4 5]\n",
      "numpy array after being incremented by a C function: [1 2 3 4 5 6]\n"
     ]
    }
   ],
   "source": [
    "%%cython\n",
    "# import both numpy and the Cython declarations for numpy\n",
    "import numpy as np\n",
    "cimport numpy as np\n",
    "\n",
    "cdef void c_add_one(long* input, int array_size) nogil:\n",
    "    for i in range(array_size):\n",
    "        input[i] = input[i] + 1\n",
    "    \n",
    "\n",
    "cdef X = np.array([0, 1, 2, 3, 4, 5])\n",
    "print \"original numpy array: {}\".format(X)\n",
    "\n",
    "# turn the numpy array into a C pointer\n",
    "# use the long datatype, because the numpy dtype is int64\n",
    "cdef long* X_c = <long*> (<np.ndarray> X).data\n",
    "\n",
    "# get the size of the array\n",
    "cdef int array_size = X.shape[0]\n",
    "\n",
    "# use a cython function to increment all values in the array\n",
    "c_add_one(X_c, array_size)\n",
    "print \"numpy array after being incremented by a C function: {}\".format(X)"
   ]
  },
  {
   "cell_type": "markdown",
   "metadata": {},
   "source": [
    "Notice that changing the values of the C pointer representation automatically changed the NumPy array on the Python side as well; this makes using Cython in computation-heavy operations with NumPy quite useful.\n",
    "\n",
    "The next example is a slightly more interesting application of Cython to NumPy arrays. I'll use Cython to find the weighted median of a large, unsorted, randomly generated array with weights."
   ]
  },
  {
   "cell_type": "code",
   "execution_count": 8,
   "metadata": {
    "collapsed": false
   },
   "outputs": [
    {
     "name": "stdout",
     "output_type": "stream",
     "text": [
      "Weighted median as calculated by Cython: 52.5556328503\n"
     ]
    }
   ],
   "source": [
    "%%cython\n",
    "# import both numpy and the Cython declarations for numpy\n",
    "import numpy as np\n",
    "import sys\n",
    "cimport numpy as np\n",
    "\n",
    "cdef double compute_weighted_median(double* y_vals, double* weights, \n",
    "                                    long array_size) nogil:\n",
    "    \"\"\"Calculate the weighted median\n",
    "    given values, weights, and a start and end index\n",
    "    \"\"\"\n",
    "    cdef size_t i, p, k\n",
    "    cdef double sum_weights\n",
    "    cdef size_t median_index\n",
    "    cdef double total_sum\n",
    "    median_index = 0\n",
    "    sum_weights = 0.0\n",
    "        \n",
    "    for i in range(array_size):\n",
    "        sum_weights += weights[i]\n",
    "\n",
    "    sort_values_and_weights(y_vals, weights, 0, array_size-1)\n",
    "    \n",
    "    total_sum = sum_weights - weights[0]\n",
    "            \n",
    "    while(total_sum > sum_weights/2):\n",
    "        median_index +=1\n",
    "        total_sum -= weights[median_index]\n",
    "\n",
    "    if total_sum == sum_weights/2:\n",
    "        return (y_vals[median_index] + y_vals[median_index + 1]) / 2\n",
    "    else:\n",
    "        return y_vals[median_index]\n",
    "            \n",
    "                \n",
    "cdef void sort_values_and_weights(double* y_vals, double* weights, \n",
    "                                  long low, long high) nogil:\n",
    "    \"\"\"Sort an array and its corresponding weights\"\"\"\n",
    "    cdef long pivot, i, j,\n",
    "    cdef double temp\n",
    "    if low < high:\n",
    "        pivot = low\n",
    "        i = low\n",
    "        j = high\n",
    "        while i < j:\n",
    "            while(y_vals[i] <= y_vals[pivot] and i <= high):\n",
    "                i += 1\n",
    "            while(y_vals[j] > y_vals[pivot] and j  >= low):\n",
    "                j -= 1\n",
    "            if i < j:\n",
    "                temp = y_vals[i]\n",
    "                y_vals[i] = y_vals[j]\n",
    "                y_vals[j] = temp\n",
    "\n",
    "                temp = weights[i]\n",
    "                weights[i] = weights[j]\n",
    "                weights[j] = temp\n",
    "        temp = y_vals[j]\n",
    "        y_vals[j] = y_vals[pivot]\n",
    "        y_vals[pivot] = temp\n",
    "\n",
    "        temp = weights[j]\n",
    "        weights[j] = weights[pivot]\n",
    "        weights[pivot] = temp\n",
    "        \n",
    "        sort_values_and_weights(y_vals, weights, low, j-1)\n",
    "        sort_values_and_weights(y_vals, weights, j+1, high)\n",
    "\n",
    "# value and weight arrays for use by Cython\n",
    "values_cython = np.random.uniform(0,100,999)\n",
    "weights_cython = np.random.uniform(0,100,999)\n",
    "\n",
    "cdef double* values_pointer = <double*> (<np.ndarray> values_cython).data\n",
    "cdef double* weights_pointer = <double*> (<np.ndarray> weights_cython).data\n",
    "cdef long array_size = 999\n",
    "\n",
    "c_weighted_median = compute_weighted_median(values_pointer, weights_pointer, array_size)\n",
    "print \"Weighted median as calculated by Cython: {}\".format(c_weighted_median)"
   ]
  }
 ],
 "metadata": {
  "kernelspec": {
   "display_name": "Python 2",
   "language": "python",
   "name": "python2"
  },
  "language_info": {
   "codemirror_mode": {
    "name": "ipython",
    "version": 2
   },
   "file_extension": ".py",
   "mimetype": "text/x-python",
   "name": "python",
   "nbconvert_exporter": "python",
   "pygments_lexer": "ipython2",
   "version": "2.7.10"
  },
  "name": "pointers.ipynb"
 },
 "nbformat": 4,
 "nbformat_minor": 0
}
